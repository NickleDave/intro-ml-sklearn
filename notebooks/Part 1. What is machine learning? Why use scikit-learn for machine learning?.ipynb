{
 "cells": [
  {
   "cell_type": "markdown",
   "metadata": {
    "deletable": true,
    "editable": true
   },
   "source": [
    "# Part 1. What is machine learning? Why use scikit-learn for machine learning?"
   ]
  },
  {
   "cell_type": "markdown",
   "metadata": {
    "deletable": true,
    "editable": true
   },
   "source": [
    "## What is machine learning?\n",
    "* everday examples:\n",
    "  - email spam filter\n",
    "  - Netflix or Spotify recommendations\n",
    "* \"gives computers ability to learn without being programmed\"\n",
    "  --Arthur Samuel, inventor of the term \"machine learning\" and pioneering researcher\n",
    "* automates tasks for which it would be tedious or just imposible to write imperative code\n",
    "  - examples above ~ tedious\n",
    "  - games, such as chess ~ mostly impossible\n",
    "* So if we program a computer with machine learning, it should do two things:\n",
    "  1. let the computer make decisions **without explicit rules**\n",
    "  2. **generalize** so that it still makes correct decisions "
   ]
  },
  {
   "cell_type": "markdown",
   "metadata": {},
   "source": [
    "## Broad categories of machine learning\n",
    "    \n",
    "1. Supervised Learning\n",
    "   - Classification\n",
    "   - Regression\n",
    "2. Unsupervised Learning\n",
    "   - Clustering\n",
    "   - Dimensionality Reduction\n",
    "3. Reinforcement Learning"
   ]
  },
  {
   "cell_type": "markdown",
   "metadata": {
    "deletable": true,
    "editable": true
   },
   "source": [
    "## Machine learning is just modeling\n",
    "\n",
    "* ML algorithms generate a **model** $y = f(x)$\n",
    "    - you **\"train\"** the model with data you’ve seen and an **algorithm** that generates the model\n",
    "    - then you **predict** based on new data points"
   ]
  },
  {
   "cell_type": "markdown",
   "metadata": {
    "deletable": true,
    "editable": true
   },
   "source": [
    "## Types of supervised learning: regression\n",
    "\n",
    "In this tutorial we will focus on supervised learning. These algorithms are the best understood in the field of machine learning and those that are most commonly used in practical applications.\n",
    "\n",
    "Scientists tend to think of linear regression as a way to show a relationship between two variables.\n",
    "\n",
    "But a linear regression also functions as a model that makes predictions.\n",
    "\n",
    "To emphasize that machine learning is just modeling, I will walk through the process of fitting a linear regression model using scikit-learn. This allows me to introduce the scikit-learn API as well."
   ]
  },
  {
   "cell_type": "code",
   "execution_count": 18,
   "metadata": {
    "collapsed": false,
    "deletable": true,
    "editable": true
   },
   "outputs": [],
   "source": [
    "# generate some fake data\n",
    "from sklearn.datasets.samples_generator import make_regression\n",
    "from sklearn.model_selection import train_test_split\n",
    "\n",
    "X, Y = make_regression(random_state=42)\n",
    "# split fake data into training and test sets\n",
    "X_train, X_test, Y_train, Y_test = train_test_split(X[1,:].reshape(-1,1), Y, test_size=0.33, random_state=42)"
   ]
  },
  {
   "cell_type": "code",
   "execution_count": 38,
   "metadata": {
    "collapsed": false,
    "deletable": true,
    "editable": true
   },
   "outputs": [
    {
     "data": {
      "text/plain": [
       "LinearRegression(copy_X=True, fit_intercept=True, n_jobs=1, normalize=False)"
      ]
     },
     "execution_count": 38,
     "metadata": {},
     "output_type": "execute_result"
    }
   ],
   "source": [
    "# import model class\n",
    "from sklearn import linear_model\n",
    "\n",
    "# instantiate model, i.e., create linear regression object\n",
    "regr = linear_model.LinearRegression()\n",
    "\n",
    "# fit the model, i.e., train using the training sets\n",
    "regr.fit(X_train,Y_train)"
   ]
  },
  {
   "cell_type": "code",
   "execution_count": 20,
   "metadata": {
    "collapsed": false,
    "deletable": true,
    "editable": true
   },
   "outputs": [],
   "source": [
    "# tell notebook to show plots inline instead of opening in a separate window\n",
    "%matplotlib inline\n",
    "import matplotlib.pyplot as plt"
   ]
  },
  {
   "cell_type": "markdown",
   "metadata": {},
   "source": [
    "If we pick a point on the X axis for which we do not have data, our model gives us a predicted value $\\hat{y}$ for that point"
   ]
  },
  {
   "cell_type": "code",
   "execution_count": 46,
   "metadata": {
    "collapsed": false,
    "deletable": true,
    "editable": true
   },
   "outputs": [
    {
     "data": {
      "text/plain": [
       "<matplotlib.legend.Legend at 0x7fa8c98de828>"
      ]
     },
     "execution_count": 46,
     "metadata": {},
     "output_type": "execute_result"
    },
    {
     "data": {
      "image/png": "[encoded data removed]",
      "text/plain": [
       "<matplotlib.figure.Figure at 0x7fa8c9dba860>"
      ]
     },
     "metadata": {},
     "output_type": "display_data"
    }
   ],
   "source": [
    "plt.scatter(X_train, Y_train, color='blue',label='data')\n",
    "plt.plot(X_train, regr.predict(X_train), color='black',\n",
    "         linewidth=3,label='model')\n",
    "y_hat = regr.predict(X_test[0,0])\n",
    "plt.plot((X_test[0,0],X_test[0,0]),(plt.ylim()[0],y_hat),'r--',linewidth=3,label='new data point')\n",
    "plt.plot(X_test[0,0],y_hat,'ro',markersize=10,label='predicted value')\n",
    "plt.legend()"
   ]
  },
  {
   "cell_type": "markdown",
   "metadata": {},
   "source": [
    "Ok, so?\n",
    "Bear in mind that machine learning algorithms let you can do this with 100s of observations per label instead of just one"
   ]
  },
  {
   "cell_type": "code",
   "execution_count": null,
   "metadata": {
    "collapsed": true
   },
   "outputs": [],
   "source": [
    "Talk about classification\n",
    "Plot dots, draw a separating line\n",
    "ML can do this in 1Ks of dimensions"
   ]
  },
  {
   "cell_type": "markdown",
   "metadata": {
    "deletable": true,
    "editable": true
   },
   "source": []
  },
  {
   "cell_type": "markdown",
   "metadata": {
    "deletable": true,
    "editable": true
   },
   "source": [
    "## What is scikit-learn and why should I use it?\n",
    "\n",
    "[Scikit-Learn](http://scikit-learn.org/stable/index.html):\n",
    " * Python package\n",
    " * provides access to well-known machine learning algorithms via Python code\n",
    " * through a clean, well-thought-out API\n",
    " * as opposed to you trying to install research code written in different low-level languages and then figuring out how to use it\n",
    " * built upon Python's NumPy (Numerical Python) and SciPy (Scientific Python) libraries\n",
    " * not specifically designed for extremely large datasets"
   ]
  },
  {
   "cell_type": "markdown",
   "metadata": {
    "deletable": true,
    "editable": true
   },
   "source": [
    "## Representation of data in machine learning and scikit-learn\n",
    "\n",
    "Recall that we are creating a model, $y = f(x)$.\n",
    "\n",
    "In the case of supervised learning:\n",
    " - we train that model with **data** $x$ and **labels** $y$.\n",
    " - we want to be able to enter some new data $x$ in our model $f()$ and predict the correct label $y$.\n",
    "\n",
    "**Data** takes the form of 2-d matrix.\n",
    "\n",
    "$$\\mathbf{X} = \\begin{bmatrix}\n",
    "    x_{1}^{(1)} & x_{2}^{(1)} & x_{3}^{(1)} & \\dots  & x_{4}^{(1)} \\\\\n",
    "    x_{1}^{(2)} & x_{2}^{(2)} & x_{3}^{(2)} & \\dots  & x_{4}^{(2)} \\\\\n",
    "    \\vdots & \\vdots & \\vdots & \\ddots & \\vdots \\\\\n",
    "    x_{1}^{(150)} & x_{2}^{(150)} & x_{3}^{(150)} & \\dots  & x_{4}^{(150)}\n",
    "\\end{bmatrix}.\n",
    "$$\n",
    "\n",
    "(The superscript denotes the *i*th row, and the subscript denotes the *j*th feature, respectively.\n",
    "\n",
    "In numpy, we can get the number of rows and columns from the `shape` property of an array.\n",
    "\n",
    "`number_of_rows, number_of_columns = X.shape`\n",
    "\n",
    "where:\n",
    " - `number_of_rows` = number of **samples**, i.e., discrete items you’re interested in looking at\n",
    "   * e.g. if you were classifying images, each image would be a sample\n",
    "\n",
    " - `number_of_columns` = number of **features**\n",
    "   * where each features is an observation/measurement you have for every sample\n",
    "\n",
    "\n",
    "\n",
    "\n",
    "\n",
    "You want your data to be 2-d array\n",
    "\n",
    "You want your labels to be 1-d array\n",
    "\n",
    "You should always visualize your data!!!\n"
   ]
  },
  {
   "cell_type": "markdown",
   "metadata": {},
   "source": [
    "## Example: iris dataset"
   ]
  },
  {
   "cell_type": "code",
   "execution_count": 41,
   "metadata": {
    "collapsed": true,
    "deletable": true,
    "editable": true
   },
   "outputs": [],
   "source": [
    "from sklearn.datasets import load_iris\n",
    "iris = load_iris()"
   ]
  },
  {
   "cell_type": "code",
   "execution_count": 42,
   "metadata": {
    "collapsed": false
   },
   "outputs": [
    {
     "name": "stdout",
     "output_type": "stream",
     "text": [
      "Number of samples: 150\n",
      "Number of features: 4\n",
      "[ 5.1  3.5  1.4  0.2]\n"
     ]
    }
   ],
   "source": [
    "n_samples, n_features = iris.data.shape\n",
    "print('Number of samples:', n_samples)\n",
    "print('Number of features:', n_features)\n",
    "# the sepal length, sepal width, petal length and petal width of the first sample (first flower)\n",
    "print(iris.data[0])"
   ]
  },
  {
   "cell_type": "markdown",
   "metadata": {
    "deletable": true,
    "editable": true
   },
   "source": [
    "## the scikit-learn API\n",
    "\n",
    "Sklearn estimator object\n",
    "Python is object-oriented: each model/algorithm is a class\n",
    "You import model\n",
    "E.g. LinearRegression\n",
    "`print model`\n",
    "A type of model is a class, and the model itself is an instantiation of a class\n",
    "We have some hyperparameters\n",
    "We fit the model\n",
    "Underscore at the end of an attribute -> parameter value from fit\n"
   ]
  },
  {
   "cell_type": "code",
   "execution_count": null,
   "metadata": {
    "collapsed": true,
    "deletable": true,
    "editable": true
   },
   "outputs": [],
   "source": []
  }
 ],
 "metadata": {
  "kernelspec": {
   "display_name": "Python 3",
   "language": "python",
   "name": "python3"
  },
  "language_info": {
   "codemirror_mode": {
    "name": "ipython",
    "version": 3
   },
   "file_extension": ".py",
   "mimetype": "text/x-python",
   "name": "python",
   "nbconvert_exporter": "python",
   "pygments_lexer": "ipython3",
   "version": "3.5.3"
  }
 },
 "nbformat": 4,
 "nbformat_minor": 2
}
