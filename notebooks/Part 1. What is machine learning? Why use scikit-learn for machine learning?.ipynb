{
 "cells": [
  {
   "cell_type": "markdown",
   "metadata": {},
   "source": [
    "## Goals:\n",
    "\n",
    "1. introduce machine learning\n",
    "2. introduce the scikit-learn API"
   ]
  },
  {
   "cell_type": "markdown",
   "metadata": {},
   "source": [
    "## Schedule:\n",
    "\n",
    "3:00 - 3:15 Machine Learning and the Scikit-learn API\n",
    "\n",
    "    What is Machine Learning?\n",
    "    Machine learning data layout\n",
    "            \n",
    "    Evaluation of Learning Models\n",
    "    \n",
    "3:15 - 3:45 Supervised learning\n",
    "\n",
    "    Support Vector Machines\n",
    "    \n",
    "3:45 - 4:15 Validation and Model Selection\n",
    "\n",
    "    Overfitting, Underfitting, bias, and variance\n",
    "    Improving your fit: validation curves and learning curves"
   ]
  },
  {
   "cell_type": "markdown",
   "metadata": {},
   "source": [
    "## What is machine learning?\n",
    "    * everday examples:\n",
    "        - email spam filter\n",
    "        - Netflix or Spotify recommendations\n",
    "    * \"gives computers ability to learn without being programmed\"\n",
    "        --Arthur Samuel, inventor of the term \"machine learning\" and pioneering researcher\n",
    "    * automates tedious tasks"
   ]
  },
  {
   "cell_type": "markdown",
   "metadata": {},
   "source": [
    "## Really it’s just **modeling**\n",
    "\n",
    "* algorithms that generate a model $y = f(x)$ based on what you’ve seen so you can predict based on new data points\n",
    "* e.g., regression\n",
    "You can do this with 100s of observations per continuous label instead of just one\n",
    "Talk about classification\n",
    "Plot dots, draw a separating line\n",
    "ML can do this in 1Ks of dimensions\n"
   ]
  },
  {
   "cell_type": "markdown",
   "metadata": {},
   "source": [
    "## Types of machine learning\n",
    "    \n",
    "    1. Supervised Learning\n",
    "        Classification\n",
    "        Regression\n",
    "    2. Unsupervised Learning\n",
    "        Clustering\n",
    "        Dimensionality Reduction\n",
    "    3. Reinforcement Learning"
   ]
  },
  {
   "cell_type": "markdown",
   "metadata": {},
   "source": [
    "## What is scikit-learn and why should I use it?\n",
    "\n",
    "[Scikit-Learn](http://scikit-learn.org/stable/index.html):\n",
    "    * Python package\n",
    "    * provides access to well-known machine learning algorithms via Python code\n",
    "    * through a clean, well-thought-out API\n",
    "    * built upon Python's NumPy (Numerical Python) and SciPy (Scientific Python) libraries\n",
    "    * not specifically designed for extremely large datasets"
   ]
  },
  {
   "cell_type": "markdown",
   "metadata": {},
   "source": [
    "## Representation of data in machine learning and scikit-learn\n",
    "\n",
    "In form of 2-d matrix\n",
    "\n",
    "Number of rows = number of samples, i.e., discrete items you’re interested in looking at, such as images if you’re classifying images\n",
    "\n",
    "Number of columns = number of features, each observation/measurement you have for each sample\n",
    "\n",
    "Example: iris dataset\n",
    "\n",
    "You want your data to be 2-d array\n",
    "\n",
    "You want your labels to be 1-d array\n",
    "\n",
    "You should always visualize your data!!!\n"
   ]
  },
  {
   "cell_type": "code",
   "execution_count": null,
   "metadata": {
    "collapsed": true
   },
   "outputs": [],
   "source": []
  },
  {
   "cell_type": "markdown",
   "metadata": {},
   "source": [
    "## the scikit-learn API\n",
    "\n",
    "Sklearn estimator object\n",
    "Python is object-oriented: each model/algorithm is a class\n",
    "You import model\n",
    "E.g. LinearRegression\n",
    "`print model`\n",
    "A type of model is a class, and the model itself is an instantiation of a class\n",
    "We have some hyperparameters\n",
    "We fit the model\n",
    "Underscore at the end of an attribute -> parameter value from fit\n"
   ]
  },
  {
   "cell_type": "code",
   "execution_count": null,
   "metadata": {
    "collapsed": true
   },
   "outputs": [],
   "source": []
  }
 ],
 "metadata": {
  "kernelspec": {
   "display_name": "Python 3",
   "language": "python",
   "name": "python3"
  },
  "language_info": {
   "codemirror_mode": {
    "name": "ipython",
    "version": 3
   },
   "file_extension": ".py",
   "mimetype": "text/x-python",
   "name": "python",
   "nbconvert_exporter": "python",
   "pygments_lexer": "ipython3",
   "version": "3.5.3"
  }
 },
 "nbformat": 4,
 "nbformat_minor": 2
}
